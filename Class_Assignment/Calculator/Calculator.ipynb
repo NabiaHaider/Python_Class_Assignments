{
  "nbformat": 4,
  "nbformat_minor": 0,
  "metadata": {
    "colab": {
      "provenance": []
    },
    "kernelspec": {
      "name": "python3",
      "display_name": "Python 3"
    },
    "language_info": {
      "name": "python"
    }
  },
  "cells": [
    {
      "cell_type": "code",
      "execution_count": 1,
      "metadata": {
        "colab": {
          "base_uri": "https://localhost:8080/"
        },
        "id": "cQgw87R7Tm1R",
        "outputId": "ffde4be0-48ed-484a-b816-ad6241d86c20"
      },
      "outputs": [
        {
          "output_type": "stream",
          "name": "stdout",
          "text": [
            "📱 Welcome to Simple Calculator!\n",
            "🧾 Available operations: +  -  *  /\n",
            "🔢 Enter first number: 67\n",
            "➕ Enter operation (+, -, *, /): +\n",
            "🔢 Enter second number: 45\n",
            "✅ Result: 67.0 + 45.0 = 112.0\n"
          ]
        }
      ],
      "source": [
        "# 🧮 Simple Python Calculator Program\n",
        "# ✍️ Yeh program 2 numbers ke saath basic operations perform karega\n",
        "\n",
        "print(\"📱 Welcome to Simple Calculator!\")\n",
        "print(\"🧾 Available operations: +  -  *  /\")\n",
        "\n",
        "# 🔢 User se 2 numbers lena\n",
        "num1 = float(input(\"🔢 Enter first number: \"))\n",
        "operator = input(\"➕ Enter operation (+, -, *, /): \")\n",
        "num2 = float(input(\"🔢 Enter second number: \"))\n",
        "\n",
        "# 🔁 Operation perform karna\n",
        "if operator == \"+\":\n",
        "    result = num1 + num2\n",
        "    print(f\"✅ Result: {num1} + {num2} = {result}\")\n",
        "elif operator == \"-\":\n",
        "    result = num1 - num2\n",
        "    print(f\"✅ Result: {num1} - {num2} = {result}\")\n",
        "elif operator == \"*\":\n",
        "    result = num1 * num2\n",
        "    print(f\"✅ Result: {num1} * {num2} = {result}\")\n",
        "elif operator == \"/\":\n",
        "    if num2 != 0:\n",
        "        result = num1 / num2\n",
        "        print(f\"✅ Result: {num1} / {num2} = {result}\")\n",
        "    else:\n",
        "        print(\"❌ Error: Division by zero is not allowed!\")\n",
        "else:\n",
        "    print(\"⚠️ Invalid operator! Please choose +, -, *, or /\")\n"
      ]
    }
  ]
}