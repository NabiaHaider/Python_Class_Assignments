{
  "nbformat": 4,
  "nbformat_minor": 0,
  "metadata": {
    "colab": {
      "provenance": []
    },
    "kernelspec": {
      "name": "python3",
      "display_name": "Python 3"
    },
    "language_info": {
      "name": "python"
    }
  },
  "cells": [
    {
      "cell_type": "code",
      "execution_count": 2,
      "metadata": {
        "colab": {
          "base_uri": "https://localhost:8080/"
        },
        "id": "WFdB7gqyQaAB",
        "outputId": "c762c25c-6f7d-47fb-d146-df757a282a32"
      },
      "outputs": [
        {
          "output_type": "stream",
          "name": "stdout",
          "text": [
            "🧑 Enter Student Name: Nabia\n",
            "🆔 Enter Roll Number: 00987\n",
            "\n",
            "📢 Each subject has 100 marks.\n",
            "\n",
            "✏️ Enter marks for English (0-100): 87\n",
            "✏️ Enter marks for Math (0-100): 90\n",
            "✏️ Enter marks for Science (0-100): 78\n",
            "✏️ Enter marks for Computer (0-100): 95\n",
            "✏️ Enter marks for Urdu (0-100): 93\n",
            "\n",
            "📄 ------ Marksheet ------ 📄\n",
            "👨‍🎓 Name: Nabia\n",
            "🆔 Roll Number: 00987\n",
            "📊 ------------------------\n",
            "English: 87/100 ✅\n",
            "Math: 90/100 ✅\n",
            "Science: 78/100 ✅\n",
            "Computer: 95/100 ✅\n",
            "Urdu: 93/100 ✅\n",
            "📊 ------------------------\n",
            "🔢 Total Marks: 443/500\n",
            "📈 Percentage: 88.60%\n",
            "🏅 Grade: A 🥈\n",
            "📊 ------------------------\n",
            "\n"
          ]
        }
      ],
      "source": [
        "# 🎓 Python Marksheet Program 🎓\n",
        "# ✍️ Student's marks will be taken and result will be calculated\n",
        "\n",
        "# 👤 Taking student's name and roll number\n",
        "name = input(\"🧑 Enter Student Name: \")\n",
        "roll_no = input(\"🆔 Enter Roll Number: \")\n",
        "\n",
        "# 📚 Creating subject list\n",
        "subjects = [\"English\", \"Math\", \"Science\", \"Computer\", \"Urdu\"]\n",
        "marks = []\n",
        "\n",
        "print(\"\\n📢 Each subject has 100 marks.\\n\")\n",
        "\n",
        "# 🔢 Taking marks for each subject\n",
        "for subject in subjects:\n",
        "    mark = int(input(f\"✏️ Enter marks for {subject} (0-100): \"))\n",
        "\n",
        "    # ❌ Input validation\n",
        "    while mark < 0 or mark > 100:\n",
        "        print(\"⚠️ Invalid marks! Please enter between 0 and 100.\")\n",
        "        mark = int(input(f\"✏️ Enter marks for {subject} (0-100): \"))\n",
        "\n",
        "    marks.append(mark)\n",
        "\n",
        "# ➕ Calculating total and 📈 percentage\n",
        "total_marks = sum(marks)\n",
        "percentage = (total_marks / 500) * 100\n",
        "\n",
        "# 🏅 Deciding grade\n",
        "if percentage >= 90:\n",
        "    grade = \"A+ 🥇\"\n",
        "elif percentage >= 80:\n",
        "    grade = \"A 🥈\"\n",
        "elif percentage >= 70:\n",
        "    grade = \"B 🥉\"\n",
        "elif percentage >= 60:\n",
        "    grade = \"C ✅\"\n",
        "elif percentage >= 50:\n",
        "    grade = \"D ⚠️\"\n",
        "else:\n",
        "    grade = \"Fail ❌\"\n",
        "\n",
        "# 🖨️ Printing the result\n",
        "print(\"\\n📄 ------ Marksheet ------ 📄\")\n",
        "print(f\"👨‍🎓 Name: {name}\")\n",
        "print(f\"🆔 Roll Number: {roll_no}\")\n",
        "print(\"📊 ------------------------\")\n",
        "\n",
        "# 🔍 Showing each subject's marks\n",
        "for i in range(len(subjects)):\n",
        "    print(f\"{subjects[i]}: {marks[i]}/100 ✅\")\n",
        "\n",
        "# 🎯 Showing total, percentage, and grade\n",
        "print(\"📊 ------------------------\")\n",
        "print(f\"🔢 Total Marks: {total_marks}/500\")\n",
        "print(f\"📈 Percentage: {percentage:.2f}%\")\n",
        "print(f\"🏅 Grade: {grade}\")\n",
        "print(\"📊 ------------------------\\n\")\n"
      ]
    }
  ]
}